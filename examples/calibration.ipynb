{
 "cells": [
  {
   "cell_type": "markdown",
   "metadata": {},
   "source": [
    "# Calibration\n",
    "\n",
    "This notebook will show you how to quickly calibrate standard VAMPIRES imaging data"
   ]
  },
  {
   "cell_type": "markdown",
   "metadata": {},
   "source": [
    "## Setup and Imports"
   ]
  },
  {
   "cell_type": "code",
   "execution_count": 1,
   "metadata": {},
   "outputs": [],
   "source": [
    "from astropy.io import fits\n",
    "import numpy as np\n",
    "from pathlib import Path\n",
    "import proplot as pro\n",
    "import tqdm.auto as tqdm\n",
    "import os\n",
    "\n",
    "pro.rc[\"style\"] = \"ggplot\"\n",
    "pro.rc[\"image.origin\"] = \"lower\"\n"
   ]
  },
  {
   "cell_type": "code",
   "execution_count": 2,
   "metadata": {},
   "outputs": [],
   "source": [
    "datadir = Path(\"data\")\n"
   ]
  },
  {
   "cell_type": "code",
   "execution_count": 3,
   "metadata": {},
   "outputs": [
    {
     "name": "stdout",
     "output_type": "stream",
     "text": [
      "Total files: 16\n"
     ]
    }
   ],
   "source": [
    "# get filelist\n",
    "filelist = list(datadir.glob(\"VMPA*[0123456789].fits\"))\n",
    "dark_files = list(datadir.glob(\"darks*cam[12].fits\"))\n",
    "print(f\"Total files: {len(filelist)}\")\n"
   ]
  },
  {
   "cell_type": "markdown",
   "metadata": {},
   "source": [
    "## Step 1: Fixing FITS headers\n",
    "\n",
    "There are some unfortunate bugs with some of the FITS headers from VAMPIRES. There are some functions that try and fix these bugs, and ignore files that don't have any problems."
   ]
  },
  {
   "cell_type": "code",
   "execution_count": 4,
   "metadata": {},
   "outputs": [
    {
     "data": {
      "application/vnd.jupyter.widget-view+json": {
       "model_id": "5100d72cd05545979af202fa8cbe8cb9",
       "version_major": 2,
       "version_minor": 0
      },
      "text/plain": [
       "Fixing FITS headers:   0%|          | 0/16 [00:00<?, ?it/s]"
      ]
     },
     "metadata": {},
     "output_type": "display_data"
    }
   ],
   "source": [
    "from vampires_dpp.fixes import fix_header\n",
    "\n",
    "# skip=True will load file from disk instead of reprocessing\n",
    "iter = tqdm.tqdm(filelist, desc=\"Fixing FITS headers\")\n",
    "fixed_files = [fix_header(f, skip=True) for f in iter]\n"
   ]
  },
  {
   "cell_type": "code",
   "execution_count": 5,
   "metadata": {},
   "outputs": [
    {
     "data": {
      "text/html": [
       "<div>\n",
       "<style scoped>\n",
       "    .dataframe tbody tr th:only-of-type {\n",
       "        vertical-align: middle;\n",
       "    }\n",
       "\n",
       "    .dataframe tbody tr th {\n",
       "        vertical-align: top;\n",
       "    }\n",
       "\n",
       "    .dataframe thead th {\n",
       "        text-align: right;\n",
       "    }\n",
       "</style>\n",
       "<table border=\"1\" class=\"dataframe\">\n",
       "  <thead>\n",
       "    <tr style=\"text-align: right;\">\n",
       "      <th></th>\n",
       "      <th>OBJECT</th>\n",
       "      <th>DATE</th>\n",
       "      <th>U_HWPANG</th>\n",
       "      <th>U_FLCSTT</th>\n",
       "      <th>U_CAMERA</th>\n",
       "    </tr>\n",
       "  </thead>\n",
       "  <tbody>\n",
       "    <tr>\n",
       "      <th>11</th>\n",
       "      <td>ABAUR</td>\n",
       "      <td>2022-02-24T05:44:51</td>\n",
       "      <td>0.0</td>\n",
       "      <td>1</td>\n",
       "      <td>1.0</td>\n",
       "    </tr>\n",
       "    <tr>\n",
       "      <th>10</th>\n",
       "      <td>ABAUR</td>\n",
       "      <td>2022-02-24T05:44:51</td>\n",
       "      <td>0.0</td>\n",
       "      <td>2</td>\n",
       "      <td>1.0</td>\n",
       "    </tr>\n",
       "    <tr>\n",
       "      <th>9</th>\n",
       "      <td>ABAUR</td>\n",
       "      <td>2022-02-24T05:44:52</td>\n",
       "      <td>0.0</td>\n",
       "      <td>1</td>\n",
       "      <td>2.0</td>\n",
       "    </tr>\n",
       "    <tr>\n",
       "      <th>8</th>\n",
       "      <td>ABAUR</td>\n",
       "      <td>2022-02-24T05:44:52</td>\n",
       "      <td>0.0</td>\n",
       "      <td>2</td>\n",
       "      <td>2.0</td>\n",
       "    </tr>\n",
       "    <tr>\n",
       "      <th>6</th>\n",
       "      <td>ABAUR</td>\n",
       "      <td>2022-02-24T05:46:57</td>\n",
       "      <td>45.0</td>\n",
       "      <td>1</td>\n",
       "      <td>1.0</td>\n",
       "    </tr>\n",
       "    <tr>\n",
       "      <th>4</th>\n",
       "      <td>ABAUR</td>\n",
       "      <td>2022-02-24T05:46:57</td>\n",
       "      <td>45.0</td>\n",
       "      <td>2</td>\n",
       "      <td>1.0</td>\n",
       "    </tr>\n",
       "    <tr>\n",
       "      <th>1</th>\n",
       "      <td>ABAUR</td>\n",
       "      <td>2022-02-24T05:46:58</td>\n",
       "      <td>45.0</td>\n",
       "      <td>1</td>\n",
       "      <td>2.0</td>\n",
       "    </tr>\n",
       "    <tr>\n",
       "      <th>14</th>\n",
       "      <td>ABAUR</td>\n",
       "      <td>2022-02-24T05:46:58</td>\n",
       "      <td>45.0</td>\n",
       "      <td>2</td>\n",
       "      <td>2.0</td>\n",
       "    </tr>\n",
       "    <tr>\n",
       "      <th>13</th>\n",
       "      <td>ABAUR</td>\n",
       "      <td>2022-02-24T05:48:19</td>\n",
       "      <td>22.5</td>\n",
       "      <td>1</td>\n",
       "      <td>1.0</td>\n",
       "    </tr>\n",
       "    <tr>\n",
       "      <th>5</th>\n",
       "      <td>ABAUR</td>\n",
       "      <td>2022-02-24T05:48:19</td>\n",
       "      <td>22.5</td>\n",
       "      <td>2</td>\n",
       "      <td>1.0</td>\n",
       "    </tr>\n",
       "    <tr>\n",
       "      <th>0</th>\n",
       "      <td>ABAUR</td>\n",
       "      <td>2022-02-24T05:48:20</td>\n",
       "      <td>22.5</td>\n",
       "      <td>1</td>\n",
       "      <td>2.0</td>\n",
       "    </tr>\n",
       "    <tr>\n",
       "      <th>15</th>\n",
       "      <td>ABAUR</td>\n",
       "      <td>2022-02-24T05:48:20</td>\n",
       "      <td>22.5</td>\n",
       "      <td>2</td>\n",
       "      <td>2.0</td>\n",
       "    </tr>\n",
       "    <tr>\n",
       "      <th>12</th>\n",
       "      <td>ABAUR</td>\n",
       "      <td>2022-02-24T05:48:51</td>\n",
       "      <td>67.5</td>\n",
       "      <td>1</td>\n",
       "      <td>1.0</td>\n",
       "    </tr>\n",
       "    <tr>\n",
       "      <th>3</th>\n",
       "      <td>ABAUR</td>\n",
       "      <td>2022-02-24T05:48:51</td>\n",
       "      <td>67.5</td>\n",
       "      <td>2</td>\n",
       "      <td>1.0</td>\n",
       "    </tr>\n",
       "    <tr>\n",
       "      <th>2</th>\n",
       "      <td>ABAUR</td>\n",
       "      <td>2022-02-24T05:48:52</td>\n",
       "      <td>67.5</td>\n",
       "      <td>1</td>\n",
       "      <td>2.0</td>\n",
       "    </tr>\n",
       "    <tr>\n",
       "      <th>7</th>\n",
       "      <td>ABAUR</td>\n",
       "      <td>2022-02-24T05:48:52</td>\n",
       "      <td>67.5</td>\n",
       "      <td>2</td>\n",
       "      <td>2.0</td>\n",
       "    </tr>\n",
       "  </tbody>\n",
       "</table>\n",
       "</div>"
      ],
      "text/plain": [
       "   OBJECT                 DATE  U_HWPANG  U_FLCSTT  U_CAMERA\n",
       "11  ABAUR  2022-02-24T05:44:51       0.0         1       1.0\n",
       "10  ABAUR  2022-02-24T05:44:51       0.0         2       1.0\n",
       "9   ABAUR  2022-02-24T05:44:52       0.0         1       2.0\n",
       "8   ABAUR  2022-02-24T05:44:52       0.0         2       2.0\n",
       "6   ABAUR  2022-02-24T05:46:57      45.0         1       1.0\n",
       "4   ABAUR  2022-02-24T05:46:57      45.0         2       1.0\n",
       "1   ABAUR  2022-02-24T05:46:58      45.0         1       2.0\n",
       "14  ABAUR  2022-02-24T05:46:58      45.0         2       2.0\n",
       "13  ABAUR  2022-02-24T05:48:19      22.5         1       1.0\n",
       "5   ABAUR  2022-02-24T05:48:19      22.5         2       1.0\n",
       "0   ABAUR  2022-02-24T05:48:20      22.5         1       2.0\n",
       "15  ABAUR  2022-02-24T05:48:20      22.5         2       2.0\n",
       "12  ABAUR  2022-02-24T05:48:51      67.5         1       1.0\n",
       "3   ABAUR  2022-02-24T05:48:51      67.5         2       1.0\n",
       "2   ABAUR  2022-02-24T05:48:52      67.5         1       2.0\n",
       "7   ABAUR  2022-02-24T05:48:52      67.5         2       2.0"
      ]
     },
     "execution_count": 5,
     "metadata": {},
     "output_type": "execute_result"
    }
   ],
   "source": [
    "from vampires_dpp.headers import observation_table\n",
    "\n",
    "# create a dataframe from the FITS headers for easily sorting through data\n",
    "# here I sort the values in perfect order for differential image analysis\n",
    "table = observation_table(fixed_files).sort_values(\n",
    "    [\"DATE\", \"U_PLSTIT\", \"U_FLCSTT\", \"U_CAMERA\"]\n",
    ")\n",
    "table[[\"OBJECT\", \"DATE\", \"U_HWPANG\", \"U_FLCSTT\", \"U_CAMERA\"]]\n"
   ]
  },
  {
   "cell_type": "markdown",
   "metadata": {},
   "source": [
    "## Step 2: Basic Image Calibration\n",
    "\n",
    "For typical VAMPIRES data we only do dark subtraction. The following calibration routines will dark subtract, as well as discard leading garbage frames, and flip the cameras orientation to remove the flip from the beamsplitter cube.\n"
   ]
  },
  {
   "cell_type": "code",
   "execution_count": 6,
   "metadata": {},
   "outputs": [],
   "source": [
    "from vampires_dpp.calibration import make_dark_file\n",
    "\n",
    "# make master darks\n",
    "master_darks = (\n",
    "    make_dark_file(dark_files[0], output=datadir / \"master_dark_cam1.fits\"),\n",
    "    make_dark_file(dark_files[1], output=datadir / \"master_dark_cam2.fits\"),\n",
    ")\n"
   ]
  },
  {
   "cell_type": "code",
   "execution_count": 7,
   "metadata": {},
   "outputs": [
    {
     "data": {
      "application/vnd.jupyter.widget-view+json": {
       "model_id": "59e440fd051747fe94740d1f537bccb4",
       "version_major": 2,
       "version_minor": 0
      },
      "text/plain": [
       "Calibrating images:   0%|          | 0/16 [00:00<?, ?it/s]"
      ]
     },
     "metadata": {},
     "output_type": "display_data"
    }
   ],
   "source": [
    "from vampires_dpp.calibration import calibrate_file\n",
    "\n",
    "# calibrate data\n",
    "calibrated_files = []\n",
    "iter = tqdm.tqdm(table[\"path\"], desc=\"Calibrating images\")\n",
    "for filename, cam in zip(iter, table[\"U_CAMERA\"]):\n",
    "    dark_file = master_darks[int(cam - 1)]\n",
    "    f = calibrate_file(filename, dark=dark_file, skip=True)\n",
    "    calibrated_files.append(f)\n"
   ]
  },
  {
   "cell_type": "code",
   "execution_count": null,
   "metadata": {},
   "outputs": [],
   "source": []
  },
  {
   "cell_type": "markdown",
   "metadata": {},
   "source": [
    "## Step 3: Frame selection and image registration (lucky imaging)"
   ]
  },
  {
   "cell_type": "code",
   "execution_count": 8,
   "metadata": {},
   "outputs": [
    {
     "data": {
      "text/plain": [
       "100.56605913350828"
      ]
     },
     "execution_count": 8,
     "metadata": {},
     "output_type": "execute_result"
    }
   ],
   "source": [
    "from vampires_dpp.satellite_spots import lamd_to_pixel\n",
    "\n",
    "# satellite spot radius in pixels\n",
    "radius = lamd_to_pixel(31.6, \"750-50\")\n",
    "radius\n"
   ]
  },
  {
   "cell_type": "code",
   "execution_count": 9,
   "metadata": {},
   "outputs": [
    {
     "data": {
      "application/vnd.jupyter.widget-view+json": {
       "model_id": "1999e873e09c4dcca387fa81639b5ca4",
       "version_major": 2,
       "version_minor": 0
      },
      "text/plain": [
       "Removing worst frames measured from satellite spots:   0%|          | 0/16 [00:00<?, ?it/s]"
      ]
     },
     "metadata": {},
     "output_type": "display_data"
    }
   ],
   "source": [
    "from vampires_dpp.frame_selection import frame_select_file\n",
    "\n",
    "iter = tqdm.tqdm(\n",
    "    calibrated_files, desc=\"Removing worst frames measured from satellite spots\"\n",
    ")\n",
    "selected_files = [\n",
    "    frame_select_file(\n",
    "        f, metric=\"l2norm\", q=0.4, coronagraphic=True, radius=radius, skip=True\n",
    "    )\n",
    "    for f in iter\n",
    "]\n"
   ]
  },
  {
   "cell_type": "code",
   "execution_count": 10,
   "metadata": {},
   "outputs": [
    {
     "data": {
      "application/vnd.jupyter.widget-view+json": {
       "model_id": "fc740489f954437c987d1243a308130a",
       "version_major": 2,
       "version_minor": 0
      },
      "text/plain": [
       "Measuring frame offsets, registering, and collapsing frames:   0%|          | 0/16 [00:00<?, ?it/s]"
      ]
     },
     "metadata": {},
     "output_type": "display_data"
    }
   ],
   "source": [
    "from vampires_dpp.image_registration import measure_offsets, register_file\n",
    "from vampires_dpp.image_processing import collapse_file\n",
    "\n",
    "iter = tqdm.tqdm(\n",
    "    selected_files, desc=\"Measuring frame offsets, registering, and collapsing frames\"\n",
    ")\n",
    "collapsed_files = []\n",
    "for filename in iter:\n",
    "    offset_file = measure_offsets(\n",
    "        filename,\n",
    "        method=\"moffat\",\n",
    "        coronagraphic=True,\n",
    "        background_subtract=True,\n",
    "        radius=radius,\n",
    "        skip=True,\n",
    "    )\n",
    "    registered_file = register_file(filename, offset_file, skip=True)\n",
    "    f = collapse_file(registered_file, skip=True)\n",
    "    collapsed_files.append(f)\n"
   ]
  }
 ],
 "metadata": {
  "kernelspec": {
   "display_name": "Python 3.9.9 ('.venv': venv)",
   "language": "python",
   "name": "python3"
  },
  "language_info": {
   "codemirror_mode": {
    "name": "ipython",
    "version": 3
   },
   "file_extension": ".py",
   "mimetype": "text/x-python",
   "name": "python",
   "nbconvert_exporter": "python",
   "pygments_lexer": "ipython3",
   "version": "3.9.9"
  },
  "orig_nbformat": 4,
  "vscode": {
   "interpreter": {
    "hash": "07c794eeb24af7d903d5afc8ab13421c96f6db73efe7b96341c3358833b50799"
   }
  }
 },
 "nbformat": 4,
 "nbformat_minor": 2
}
